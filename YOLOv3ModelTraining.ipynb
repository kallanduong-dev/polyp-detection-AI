{
  "nbformat": 4,
  "nbformat_minor": 0,
  "metadata": {
    "colab": {
      "provenance": [],
      "collapsed_sections": []
    },
    "kernelspec": {
      "name": "python3",
      "display_name": "Python 3"
    },
    "language_info": {
      "name": "python"
    }
  },
  "cells": [
    {
      "cell_type": "code",
      "execution_count": null,
      "metadata": {
        "id": "u8Z6StYcFLjx"
      },
      "outputs": [],
      "source": [
        "from google.colab import drive\n",
        "drive.mount('/content/drive')"
      ]
    },
    {
      "cell_type": "code",
      "source": [
        "# clone darknet repo\n",
        "!git clone https://github.com/AlexeyAB/darknet"
      ],
      "metadata": {
        "id": "H0I3Od2iFOGk"
      },
      "execution_count": null,
      "outputs": []
    },
    {
      "cell_type": "code",
      "source": [
        "%cd darknet\n",
        "!sed -i 's/OPENCV=0/OPENCV=1/' Makefile\n",
        "!sed -i 's/GPU=0/GPU=1/' Makefile\n",
        "!sed -i 's/CUDNN=0/CUDNN=1/' Makefile"
      ],
      "metadata": {
        "id": "X2_UIzVLFOAx"
      },
      "execution_count": null,
      "outputs": []
    },
    {
      "cell_type": "code",
      "source": [
        "# make darknet (build)\n",
        "!make"
      ],
      "metadata": {
        "id": "goJJcb4GFN9P"
      },
      "execution_count": null,
      "outputs": []
    },
    {
      "cell_type": "code",
      "source": [
        "# upload pretrained convolutional layer weights\n",
        "!wget http://pjreddie.com/media/files/darknet53.conv.74"
      ],
      "metadata": {
        "id": "gIX0VxjyFN4C"
      },
      "execution_count": null,
      "outputs": []
    },
    {
      "cell_type": "markdown",
      "source": [
        "**Steps for your google drive**\n",
        "*   Create a config file in darknet/cfg folder. My config file is in github\n",
        "\n",
        "*   Upload training data to google drive \n",
        "*   Create a txt file called train.txt where each line has the path to each of the images in the training set\n",
        "*   Run Training Command using path to obj.data file (contains path to train.txt), config file, and weights file\n",
        "\n",
        "\n",
        "\n",
        "\n",
        "\n",
        "\n"
      ],
      "metadata": {
        "id": "DojXFBenGVQm"
      }
    },
    {
      "cell_type": "code",
      "source": [
        "!./darknet detector train data/obj.data cfg/yolov3_custom.cfg backup/yolov3_custom_last.weights -dont_show"
      ],
      "metadata": {
        "id": "qGpI7Ql4FNwd"
      },
      "execution_count": null,
      "outputs": []
    },
    {
      "cell_type": "markdown",
      "source": [
        "**Testing Instructions**\n",
        "\n",
        "\n",
        "*   Set to test mode by changing Batchsize/Subdivisions to 1 in config file. \n",
        "*   Create a txt file called test.txt which holds the path to each of the \n",
        "images in the testing set\n",
        "\n",
        "*   Run testing command with path to obj.data, config file, your trained weights and test.txt file\n",
        "\n",
        "\n",
        "*   Detection results will be output in a file called result.txt\n",
        "\n",
        "\n",
        "\n",
        "\n",
        "\n",
        "\n"
      ],
      "metadata": {
        "id": "535wplmqGKP-"
      }
    },
    {
      "cell_type": "code",
      "source": [
        "!./darknet detector test data/obj.data cfg/yolov3_custom.cfg backup/yolov3_custom_final.weights -ext_output -dont_show < data/test.txt > result.txt -thresh 0.17"
      ],
      "metadata": {
        "id": "1ADSfu44FNQJ"
      },
      "execution_count": null,
      "outputs": []
    }
  ]
}